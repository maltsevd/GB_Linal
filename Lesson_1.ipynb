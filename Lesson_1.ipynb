{
  "nbformat": 4,
  "nbformat_minor": 0,
  "metadata": {
    "colab": {
      "name": "Untitled3.ipynb",
      "provenance": [],
      "collapsed_sections": [],
      "authorship_tag": "ABX9TyMl9w7NaR8w/d3sXfEIyeCo"
    },
    "kernelspec": {
      "name": "python3",
      "display_name": "Python 3"
    },
    "language_info": {
      "name": "python"
    }
  },
  "cells": [
    {
      "cell_type": "markdown",
      "metadata": {
        "id": "EElgmwJ4-lE6"
      },
      "source": [
        "# Методичка 1"
      ]
    },
    {
      "cell_type": "markdown",
      "metadata": {
        "id": "NaYoffkueD8U"
      },
      "source": [
        "__1.__ Исследовать на линейную зависимость:\n",
        "\n",
        "$$f_{1}(x)=e^{x}, f_{2}(x)=1, f_{3}(x)=x+1, f_{4}(x)=x-e^{x}.$$\n"
      ]
    },
    {
      "cell_type": "markdown",
      "metadata": {
        "id": "TipXgDHP-2zs"
      },
      "source": [
        "Решение:\n",
        "\n",
        "  $$f_{1}(x) = -(f_{4}(x)) + f_{3}(x) - f_{2}(x)$$\n",
        "  $$f_{2}(x) = f_{3}(x) - f_{4}(x) + f_{1}(x)$$\n",
        "  $$f_{3}(x) = x + f_{2}(x)$$\n",
        "  $$f_{4}(x) = f_{3}(x) - f_{2}(x) - f_{1}(x)$$\n",
        "\n",
        "  Следовательно все векторы являются линейными комбинациями остальных векторов -> линейно зависимы"
      ]
    },
    {
      "cell_type": "markdown",
      "metadata": {
        "id": "cECfCSANkVqR"
      },
      "source": [
        "__2.__ Исследовать на линейную зависимость:\n",
        "$$f_{1}(x)=2, f_{2}(x)=x, f_{3}(x)=x^{2}, f_{4}(x)=(x+1)^{2}$$"
      ]
    },
    {
      "cell_type": "markdown",
      "metadata": {
        "id": "7f_xukgGAz0L"
      },
      "source": [
        "$$f_{1}(x) = f_{4}(x) $$\n",
        "$$f_{2}(x) = 1/2(f_{4}(x) - f_{3}(x) - 2f_{1}(x))$$\n",
        "$$f_{3}(x) = f_{4}(x) - 2f_{2}(x) - 1/2f_{1}(x)$$\n",
        "$$f_{4}(x) = x^2 + 2x + 1 = f_{3}(x) + 2f_{2}(x) + 1/2 f_{1}(x)$$\n"
      ]
    }
  ]
}