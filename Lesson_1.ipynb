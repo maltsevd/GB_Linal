{
  "nbformat": 4,
  "nbformat_minor": 0,
  "metadata": {
    "colab": {
      "name": "Lesson_1.ipynb",
      "provenance": [],
      "collapsed_sections": [],
      "authorship_tag": "ABX9TyNPF+eVzfoonqJi8KhxO/B2"
    },
    "kernelspec": {
      "name": "python3",
      "display_name": "Python 3"
    },
    "language_info": {
      "name": "python"
    }
  },
  "cells": [
    {
      "cell_type": "markdown",
      "metadata": {
        "id": "EElgmwJ4-lE6"
      },
      "source": [
        "# Методичка 1"
      ]
    },
    {
      "cell_type": "markdown",
      "metadata": {
        "id": "NaYoffkueD8U"
      },
      "source": [
        "##__1.__ Исследовать на линейную зависимость:\n",
        "\n",
        "$$f_{1}(x)=e^{x}, f_{2}(x)=1, f_{3}(x)=x+1, f_{4}(x)=x-e^{x}.$$\n"
      ]
    },
    {
      "cell_type": "markdown",
      "metadata": {
        "id": "TipXgDHP-2zs"
      },
      "source": [
        "Решение:\n",
        "\n",
        "  $$f_{1}(x) = -(f_{4}(x)) + f_{3}(x) - f_{2}(x)$$\n",
        "  $$f_{2}(x) = f_{3}(x) - f_{4}(x) + f_{1}(x)$$\n",
        "  $$f_{3}(x) = x + f_{2}(x)$$\n",
        "  $$f_{4}(x) = f_{3}(x) - f_{2}(x) - f_{1}(x)$$\n",
        "\n",
        "  Следовательно все векторы являются линейными комбинациями остальных векторов -> линейно зависимы"
      ]
    },
    {
      "cell_type": "markdown",
      "metadata": {
        "id": "cECfCSANkVqR"
      },
      "source": [
        "##__2.__ Исследовать на линейную зависимость:\n",
        "$$f_{1}(x)=2, f_{2}(x)=x, f_{3}(x)=x^{2}, f_{4}(x)=(x+1)^{2}$$"
      ]
    },
    {
      "cell_type": "markdown",
      "metadata": {
        "id": "7f_xukgGAz0L"
      },
      "source": [
        "Решение:\n",
        "\n",
        "$$f_{1}(x) = 2(f_{4}(x) - f_{3}(x) - 2(f_{2}(x))$$\n",
        "$$f_{2}(x) = 1/2(f_{4}(x) - f_{3}(x) - 2f_{1}(x))$$\n",
        "$$f_{3}(x) = f_{4}(x) - 2f_{2}(x) - 1/2f_{1}(x)$$\n",
        "$$f_{4}(x) = x^2 + 2x + 1 = f_{3}(x) + 2f_{2}(x) + 1/2 f_{1}(x)$$\n"
      ]
    },
    {
      "cell_type": "markdown",
      "metadata": {
        "id": "DFrjdtbHkVqS"
      },
      "source": [
        "##__3.__ Найти координаты вектора $x = (2, 3, 5)\\in \\mathbb{R}^{3}$ в базисе $b_{1}=(0, 0, 10)$, $b_{2}=(2, 0, 0)$, $b_{3}=(0, 1, 0)$.\n"
      ]
    },
    {
      "cell_type": "markdown",
      "metadata": {
        "id": "AkwHy8r-Lh0D"
      },
      "source": [
        "Решение:\n",
        "$$x=(2, 3, 5)=(2,0,0)+(0, 3, 0)+(0, 0, 5)= 1/2b_{1} + b_{2} + 3b_{3} $$\n",
        "то есть координатами вектора  x  в новом базисе являются  1/2 ,  1 ,  3 ."
      ]
    },
    {
      "cell_type": "markdown",
      "metadata": {
        "id": "5la-eVLukVqT"
      },
      "source": [
        "##__4.__ Найти координаты вектора $3x^{2}-2x+2\\in\\mathbb{R}^{3}[x]$:\n",
        "\n",
        "а) в базисе $1$, $x$, $x^{2}$;\n",
        "\n",
        "б) в базисе $x^{2}$, $x-1$, $1$."
      ]
    },
    {
      "cell_type": "markdown",
      "metadata": {
        "id": "4FoLvdwEQEDm"
      },
      "source": [
        "Решение:\n",
        "\n",
        "а) $ 2\\cdot1 + (-2)\\cdot x + 3\\cdot x^2 \\Rightarrow (2 , -2 , 3)$\n",
        "\n",
        "б) $ 3\\cdot x^2 - 2\\cdot(x - 1) + 0\\cdot 1 \\Rightarrow (3, -2 ,0)$\n"
      ]
    },
    {
      "cell_type": "markdown",
      "metadata": {
        "id": "kQlell_GkVqU"
      },
      "source": [
        "##__5.__ Установить, является ли линейным подпространством:\n",
        "\n",
        "а) совокупность всех векторов трехмерного пространства, у которых по крайней мере одна из первых двух координат равна нулю;\n",
        "    \n",
        "б) все векторы, являющиеся линейными комбинациями данных векторов $\\{u_{1}, u_{2}, \\ldots, u_{n}\\}$."
      ]
    },
    {
      "cell_type": "markdown",
      "metadata": {
        "id": "81MpFM_lNt9b"
      },
      "source": [
        "Решение:\n",
        "\n",
        "  а) Да\n",
        "\n",
        "  (0,a,b)+(0,c,d)=(0,a+c,b+d), \n",
        "\n",
        "  \n",
        "α⋅(0,a,b)=(0,αa,αb).\n",
        "\n",
        "Полученные векторы также принадлежат указанному в задании множеству всех векторов вида (0,a,b), то есть данное множество является подпространством линейного пространства $\\mathbb{R}^3$.\n",
        "  \n",
        "  б) Из подсказки на лекции пишес следующее:\n",
        "\n",
        "  $a_{1} = \\lambda_{1}\\cdot U_{1} + \\lambda_{2}\\cdot U_{2}...+...\\lambda_{n}\\cdot U_{n}$\n",
        "\n",
        "  $ a_{2} = \\mu_{1}\\cdot U_{1} + \\mu_{2}\\cdot U_{2}...+...\\mu_{n}\\cdot U_{n}$\n",
        "\n",
        "  $ a_{1} + a_{2} = U_{1}\\cdot(\\lambda_{1}+\\mu_{1})+U_{2}\\cdot(\\lambda_{2}+\\mu_{2})...+...U_{n}\\cdot(\\lambda_{n}+\\mu_{n}) \\Rightarrow$ все комбинации линейных векторов $\\{u_{1}, u_{2}, \\ldots, u_{n}\\}$ будут являться линейным подпространством."
      ]
    }
  ]
}