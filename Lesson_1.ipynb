{
  "nbformat": 4,
  "nbformat_minor": 0,
  "metadata": {
    "colab": {
      "name": "Lesson_1.ipynb",
      "provenance": [],
      "collapsed_sections": [],
      "authorship_tag": "ABX9TyPFy1101QOeiqqdyXK3A91k"
    },
    "kernelspec": {
      "name": "python3",
      "display_name": "Python 3"
    },
    "language_info": {
      "name": "python"
    }
  },
  "cells": [
    {
      "cell_type": "markdown",
      "metadata": {
        "id": "EElgmwJ4-lE6"
      },
      "source": [
        "# Методичка 1"
      ]
    },
    {
      "cell_type": "markdown",
      "metadata": {
        "id": "NaYoffkueD8U"
      },
      "source": [
        "##__1.__ Исследовать на линейную зависимость:\n",
        "\n",
        "$$f_{1}(x)=e^{x}, f_{2}(x)=1, f_{3}(x)=x+1, f_{4}(x)=x-e^{x}.$$\n"
      ]
    },
    {
      "cell_type": "markdown",
      "metadata": {
        "id": "TipXgDHP-2zs"
      },
      "source": [
        "Решение:\n",
        "\n",
        "  $$f_{1}(x) = -(f_{4}(x)) + f_{3}(x) - f_{2}(x)$$\n",
        "  $$f_{2}(x) = f_{3}(x) - f_{4}(x) + f_{1}(x)$$\n",
        "  $$f_{3}(x) = x + f_{2}(x)$$\n",
        "  $$f_{4}(x) = f_{3}(x) - f_{2}(x) - f_{1}(x)$$\n",
        "\n",
        "  Следовательно все векторы являются линейными комбинациями остальных векторов -> линейно зависимы"
      ]
    },
    {
      "cell_type": "markdown",
      "metadata": {
        "id": "cECfCSANkVqR"
      },
      "source": [
        "##__2.__ Исследовать на линейную зависимость:\n",
        "$$f_{1}(x)=2, f_{2}(x)=x, f_{3}(x)=x^{2}, f_{4}(x)=(x+1)^{2}$$"
      ]
    },
    {
      "cell_type": "markdown",
      "metadata": {
        "id": "7f_xukgGAz0L"
      },
      "source": [
        "Решение:\n",
        "\n",
        "$$f_{1}(x) = 2(f_{4}(x) - f_{3}(x) - 2(f_{2}(x))$$\n",
        "$$f_{2}(x) = 1/2(f_{4}(x) - f_{3}(x) - 2f_{1}(x))$$\n",
        "$$f_{3}(x) = f_{4}(x) - 2f_{2}(x) - 1/2f_{1}(x)$$\n",
        "$$f_{4}(x) = x^2 + 2x + 1 = f_{3}(x) + 2f_{2}(x) + 1/2 f_{1}(x)$$\n"
      ]
    },
    {
      "cell_type": "markdown",
      "metadata": {
        "id": "DFrjdtbHkVqS"
      },
      "source": [
        "##__3.__ Найти координаты вектора $x = (2, 3, 5)\\in \\mathbb{R}^{3}$ в базисе $b_{1}=(0, 0, 10)$, $b_{2}=(2, 0, 0)$, $b_{3}=(0, 1, 0)$.\n"
      ]
    },
    {
      "cell_type": "markdown",
      "metadata": {
        "id": "AkwHy8r-Lh0D"
      },
      "source": [
        "Решение:\n",
        "$$x=(2, 3, 5)=(2,0,0)+(0, 3, 0)+(0, 0, 5)= 1/2b_{1} + b_{2} + 3b_{3} $$\n",
        "то есть координатами вектора  x  в новом базисе являются  1/2 ,  1 ,  3 ."
      ]
    },
    {
      "cell_type": "markdown",
      "metadata": {
        "id": "5la-eVLukVqT"
      },
      "source": [
        "##__4.__ Найти координаты вектора $3x^{2}-2x+2\\in\\mathbb{R}^{3}[x]$:\n",
        "\n",
        "а) в базисе $1$, $x$, $x^{2}$;\n",
        "\n",
        "б) в базисе $x^{2}$, $x-1$, $1$."
      ]
    },
    {
      "cell_type": "markdown",
      "metadata": {
        "id": "4FoLvdwEQEDm"
      },
      "source": [
        "Решение:\n",
        "\n",
        "а) $ 2\\cdot1 + (-2)\\cdot x + 3\\cdot x^2 \\Rightarrow (2 , -2 , 3)$\n",
        "\n",
        "б) $ 3\\cdot x^2 - 2\\cdot(x - 1) + 0\\cdot 1 \\Rightarrow (3, -2 ,0)$\n"
      ]
    },
    {
      "cell_type": "markdown",
      "metadata": {
        "id": "kQlell_GkVqU"
      },
      "source": [
        "##__5.__ Установить, является ли линейным подпространством:\n",
        "\n",
        "а) совокупность всех векторов трехмерного пространства, у которых по крайней мере одна из первых двух координат равна нулю;\n",
        "    \n",
        "б) все векторы, являющиеся линейными комбинациями данных векторов $\\{u_{1}, u_{2}, \\ldots, u_{n}\\}$."
      ]
    },
    {
      "cell_type": "markdown",
      "metadata": {
        "id": "81MpFM_lNt9b"
      },
      "source": [
        "Решение:\n",
        "\n",
        "  а) Да\n",
        "\n",
        "  (0,a,b)+(0,c,d)=(0,a+c,b+d), \n",
        "\n",
        "  \n",
        "α⋅(0,a,b)=(0,αa,αb).\n",
        "\n",
        "Полученные векторы также принадлежат указанному в задании множеству всех векторов вида (0,a,b), то есть данное множество является подпространством линейного пространства $\\mathbb{R}^3$.\n",
        "  \n",
        "  б) Из подсказки на лекции пишес следующее:\n",
        "\n",
        "  $a_{1} = \\lambda_{1}\\cdot U_{1} + \\lambda_{2}\\cdot U_{2}...+...\\lambda_{n}\\cdot U_{n}$\n",
        "\n",
        "  $ a_{2} = \\mu_{1}\\cdot U_{1} + \\mu_{2}\\cdot U_{2}...+...\\mu_{n}\\cdot U_{n}$\n",
        "\n",
        "  $ a_{1} + a_{2} = U_{1}\\cdot(\\lambda_{1}+\\mu_{1})+U_{2}\\cdot(\\lambda_{2}+\\mu_{2})...+...U_{n}\\cdot(\\lambda_{n}+\\mu_{n}) \\Rightarrow$ все комбинации линейных векторов $\\{u_{1}, u_{2}, \\ldots, u_{n}\\}$ будут являться линейным подпространством."
      ]
    },
    {
      "cell_type": "markdown",
      "metadata": {
        "id": "eiElItxksqPV"
      },
      "source": [
        "# Методичка 2"
      ]
    },
    {
      "cell_type": "markdown",
      "metadata": {
        "id": "R4BiRt0xsuzl"
      },
      "source": [
        "##__1.__ Найти скалярное произведение векторов $x, y \\in \\mathbb{R}$:<br>\n",
        "а) $x=(0,-3, 6),~y=(-4, 7, 9);$<br>\n",
        "б) $x=(7, -4, 0, 1),~y=(-3, 1, 11, 2).$"
      ]
    },
    {
      "cell_type": "markdown",
      "metadata": {
        "id": "RcLp7gbntcoE"
      },
      "source": [
        "Решение:\n",
        "\n",
        "а) $0\\cdot(-4)-3\\cdot7+6\\cdot9$ = 33"
      ]
    },
    {
      "cell_type": "code",
      "metadata": {
        "id": "XJmDQmalCaAU"
      },
      "source": [
        "import numpy as np\n",
        "from numpy.linalg import norm"
      ],
      "execution_count": 5,
      "outputs": []
    },
    {
      "cell_type": "code",
      "metadata": {
        "colab": {
          "base_uri": "https://localhost:8080/"
        },
        "id": "p2Lervg_Co2m",
        "outputId": "c3b4ae90-ea40-4fbb-d2ab-3ed62fab760f"
      },
      "source": [
        "x = np.array([0,-3,6])\n",
        "y = np.array([-4,7,9])\n",
        "\n",
        "print(f'Скалярное произведение x и y: {x @ y}')"
      ],
      "execution_count": 3,
      "outputs": [
        {
          "output_type": "stream",
          "text": [
            "Скалярное произведение x и y: 33\n"
          ],
          "name": "stdout"
        }
      ]
    },
    {
      "cell_type": "markdown",
      "metadata": {
        "id": "Ns6sHNVMDJyE"
      },
      "source": [
        "б) $7\\cdot(-3)-4\\cdot1+0\\cdot11+1\\cdot2 = -23$"
      ]
    },
    {
      "cell_type": "code",
      "metadata": {
        "colab": {
          "base_uri": "https://localhost:8080/"
        },
        "id": "BEx1K1d3Db23",
        "outputId": "9cfce033-728e-4189-97d4-28f012a59aa7"
      },
      "source": [
        "x = np.array([7,-4,0,1])\n",
        "y = np.array([-3,1,11,2])\n",
        "\n",
        "print(f'Скалярное произведение x и y: {x @ y}')"
      ],
      "execution_count": 4,
      "outputs": [
        {
          "output_type": "stream",
          "text": [
            "Скалярное произведение x и y: -23\n"
          ],
          "name": "stdout"
        }
      ]
    },
    {
      "cell_type": "markdown",
      "metadata": {
        "id": "DOk5jPh1DoPq"
      },
      "source": [
        "##__2.__ Найти нормы векторов $(4, 2, 4)$ и $(12, 3, 4)$ и угол между ними."
      ]
    },
    {
      "cell_type": "markdown",
      "metadata": {
        "id": "znEwD4X9DubJ"
      },
      "source": [
        "Решение:\n",
        "\n",
        "Определим евклидову норму для дальнейшего поиска угла:\n",
        "\n",
        "$ x = \\sqrt{4^2+2^2+4^2} = \\sqrt{36} = 6 $\n",
        "\n",
        "$ y = \\sqrt{12^2+3^2+4^2} = \\sqrt{169} = 13 $\n",
        "\n",
        "$$cos\\varphi = \\frac{4\\cdot12+2\\cdot3+4\\cdot4}{\\sqrt{4^{2}+2^{2}+4^{2}}\\cdot\\sqrt{12^{2}+3^{2}+4^{2}}}=\\frac{70}{\\sqrt{6084}} = \\frac{70}{78}\\approx 0.897$$"
      ]
    },
    {
      "cell_type": "code",
      "metadata": {
        "colab": {
          "base_uri": "https://localhost:8080/"
        },
        "id": "JQyhhxXyITFR",
        "outputId": "8d663671-4185-4605-b901-6d0402bdb1f3"
      },
      "source": [
        "# Проверим\n",
        "\n",
        "a = np.array([4,2,4])\n",
        "b = np.array([12,3,4])\n",
        "\n",
        "cos_phi = a @ b / norm(a) / norm(b)\n",
        "print(f'COS угла между a и b: {cos_phi}')"
      ],
      "execution_count": 9,
      "outputs": [
        {
          "output_type": "stream",
          "text": [
            "COS угла между a и b: 0.8974358974358974\n"
          ],
          "name": "stdout"
        }
      ]
    },
    {
      "cell_type": "markdown",
      "metadata": {
        "id": "dzB3sNiVJCaz"
      },
      "source": [
        "##__3.__ Будет ли линейное пространство евклидовым, если за скалярное произведение принять:<br>\n",
        "а) произведение длин векторов;<br>\n",
        "б) утроенное обычное скалярное произведение векторов?<br>"
      ]
    },
    {
      "cell_type": "markdown",
      "metadata": {
        "id": "ebDGvJxhJLGY"
      },
      "source": [
        "а) Нет, т.к. для скалярного произведения в евклидовом пространстве нужно произведение длин векторов еще домножить на $\\cos$ угла между ними.\n",
        "\n",
        "б) Да, т.к. это удовлетворяет 2 аксиоме: $(\\lambda x, y)=\\lambda(x, y)$"
      ]
    },
    {
      "cell_type": "markdown",
      "metadata": {
        "id": "Fu0OFl9FMQMf"
      },
      "source": [
        "##__4.__ Какие из нижеперечисленных векторов образуют ортонормированный базис в линейном пространстве $\\mathbb{R}^{3}$:<br>\n",
        "а) $(1,0,0),(0,0,1);$ <br>\n",
        "б) $(1/\\sqrt{2},-1/\\sqrt{2},0),(1/\\sqrt{2},1/\\sqrt{2},0), (0,0,1);$<br>\n",
        "в) $(1/2, -1/2, 0), (0, 1/2, 1/2), (0,0,1);$<br>\n",
        "г) $(1,0,0),(0,1,0),(0,0,1)?$ "
      ]
    },
    {
      "cell_type": "markdown",
      "metadata": {
        "id": "RPlYnEkpMSL7"
      },
      "source": [
        "Решение:\n",
        "\n",
        "По определению, ортонормированный базис является ортогональным и состоит из векторов единичной длины.\n",
        "\n",
        "Данному условию удовлетворяют варианты:\n",
        "\n",
        " а(является ортонормированным, но не будет базисом в трехмерном пространстве)\n",
        " \n",
        " и \n",
        " \n",
        " г)"
      ]
    }
  ]
}