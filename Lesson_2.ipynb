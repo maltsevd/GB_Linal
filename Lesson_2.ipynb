{
  "nbformat": 4,
  "nbformat_minor": 0,
  "metadata": {
    "colab": {
      "name": "Lesson_2.ipynb",
      "provenance": [],
      "collapsed_sections": [],
      "authorship_tag": "ABX9TyMHTlfdHpEbhiRFlqiWzX6Q"
    },
    "kernelspec": {
      "name": "python3",
      "display_name": "Python 3"
    },
    "language_info": {
      "name": "python"
    }
  },
  "cells": [
    {
      "cell_type": "markdown",
      "metadata": {
        "id": "otaZ-ww6RRKD"
      },
      "source": [
        "# Методичка 3"
      ]
    },
    {
      "cell_type": "markdown",
      "metadata": {
        "id": "Rzu_reNhRU10"
      },
      "source": [
        "##__1.__ Установить, какие произведения матриц $AB$ и $BA$ определены, и найти размерности полученных матриц:\n",
        "\n",
        "   а) $A$ — матрица $4\\times 2$, $B$ — матрица $4\\times 2$;\n",
        "    \n",
        "   б) $A$ — матрица $2\\times 5$, $B$ — матрица $5\\times 3$;\n",
        "    \n",
        "   в) $A$ — матрица $8\\times 3$, $B$ — матрица $3\\times 8$;\n",
        "    \n",
        "   г) $A$ — квадратная матрица $4\\times 4$, $B$ — квадратная матрица $4\\times 4$."
      ]
    },
    {
      "cell_type": "markdown",
      "metadata": {
        "id": "04mN_ENPRXV6"
      },
      "source": [
        "Решение:\n",
        "\n",
        "а) Не удовлетворяет условиям $m\\times{n}$<br>\n",
        "б)$AB - 2\\times{3}, BA$ нет<br>\n",
        "в)$AB - 8\\times{8}, BA - 3\\times{3}$<br>\n",
        "г)$AB, BA - 4\\times4$<br>\n"
      ]
    },
    {
      "cell_type": "markdown",
      "metadata": {
        "id": "TbZYNQTYUc1u"
      },
      "source": [
        "##__2.__ Найти сумму и произведение матриц $A=\\begin{pmatrix}\n",
        "1 & -2\\\\ \n",
        "3 & 0\n",
        "\\end{pmatrix}$ и $B=\\begin{pmatrix}\n",
        "4 & -1\\\\ \n",
        "0 & 5\n",
        "\\end{pmatrix}.$"
      ]
    },
    {
      "cell_type": "markdown",
      "metadata": {
        "id": "lNb2K0SYUif9"
      },
      "source": [
        "$A+B = \\begin{pmatrix}5 & -3 \\\\ 3 & 5 \\end{pmatrix}$<br>\n",
        "$A\\times{B} = \\begin{pmatrix}4 & -11 \\\\ 12 & -3 \\end{pmatrix}$"
      ]
    },
    {
      "cell_type": "code",
      "metadata": {
        "id": "pb9d2570Vs8k"
      },
      "source": [
        "import numpy as np"
      ],
      "execution_count": null,
      "outputs": []
    },
    {
      "cell_type": "code",
      "metadata": {
        "colab": {
          "base_uri": "https://localhost:8080/"
        },
        "id": "Zs67t9JXVyLK",
        "outputId": "1a51a505-b159-4576-af7a-1c185fc6bc43"
      },
      "source": [
        "A = np.array([[1, -2], [3, 0]])\n",
        "B = np.array([[4,-1], [0,5]])\n",
        "\n",
        "print(f'Сумма A и B:\\n {A+B}')\n",
        "print(f'Произведение A и B:\\n {A.dot(B)}')"
      ],
      "execution_count": null,
      "outputs": [
        {
          "output_type": "stream",
          "text": [
            "Сумма A и B:\n",
            " [[ 5 -3]\n",
            " [ 3  5]]\n",
            "Произведение A и B:\n",
            " [[  4 -11]\n",
            " [ 12  -3]]\n"
          ],
          "name": "stdout"
        }
      ]
    },
    {
      "cell_type": "markdown",
      "metadata": {
        "id": "W7o8JbBQX9h3"
      },
      "source": [
        "##__3.__ Из закономерностей сложения и умножения матриц на число можно сделать вывод, что матрицы одного размера образуют линейное пространство. Вычислить линейную комбинацию $3A-2B+4C$ для матриц $A=\\begin{pmatrix}\n",
        "1 & 7\\\\ \n",
        "3 & -6\n",
        "\\end{pmatrix}$, $B=\\begin{pmatrix}\n",
        "0 & 5\\\\ \n",
        "2 & -1\n",
        "\\end{pmatrix}$, $C=\\begin{pmatrix}\n",
        "2 & -4\\\\ \n",
        "1 & 1\n",
        "\\end{pmatrix}.$"
      ]
    },
    {
      "cell_type": "markdown",
      "metadata": {
        "id": "HtjRxD6cYE-s"
      },
      "source": [
        "$3A = \\begin{pmatrix} 3 & 21 \\\\ 9 & -18 \\end{pmatrix},$\n",
        "$2B  = \\begin{pmatrix} 0 & 10 \\\\ 4 & -2 \\end{pmatrix},$\n",
        "$4C  = \\begin{pmatrix} 8 & -16 \\\\ 4 & 4 \\end{pmatrix},$<br>\n",
        "$3A - 2B + 4C = \\begin{pmatrix} 11 & -5 \\\\ 9 & -12 \\end{pmatrix}$"
      ]
    },
    {
      "cell_type": "code",
      "metadata": {
        "colab": {
          "base_uri": "https://localhost:8080/"
        },
        "id": "F0vVyY7HpoeY",
        "outputId": "fb5a75ce-970b-48f4-8751-f6134ad557e8"
      },
      "source": [
        "A = np.array([[1,7],[3,-6]])\n",
        "B = np.array([[0,5],[2,-1]])\n",
        "C = np.array([[2,-4],[1,1]])\n",
        "\n",
        "print(f'3A - 2B + 4C = \\n{3*A-2*B+4*C}')"
      ],
      "execution_count": null,
      "outputs": [
        {
          "output_type": "stream",
          "text": [
            "3A - 2B + 4C = \n",
            "[[ 11  -5]\n",
            " [  9 -12]]\n"
          ],
          "name": "stdout"
        }
      ]
    },
    {
      "cell_type": "markdown",
      "metadata": {
        "id": "AvFE_B-yqdSf"
      },
      "source": [
        "#__4.__ Дана матрица $A=\\begin{pmatrix}\n",
        "4 & 1\\\\ \n",
        "5 & -2\\\\ \n",
        "2 & 3\n",
        "\\end{pmatrix}$.\n",
        "Вычислить $AA^{T}$ и $A^{T}A$."
      ]
    },
    {
      "cell_type": "markdown",
      "metadata": {
        "id": "pFcgDtHHqyaB"
      },
      "source": [
        "$A^{T} = \\begin{pmatrix} 4 & 5 & 2 \\\\ 1 & -2 & 3\\end{pmatrix}$<br>\n",
        "$A\\cdot A^{T} = \\begin{pmatrix} 17 & 18 & 11 \\\\ 18 & 29 & 4 \\\\ 11 & 4 & 13\\end{pmatrix}$<br>\n",
        "$A^T\\cdot A = \\begin{pmatrix} 45 & 0 \\\\ 0 & 14\\end{pmatrix}$"
      ]
    },
    {
      "cell_type": "code",
      "metadata": {
        "colab": {
          "base_uri": "https://localhost:8080/"
        },
        "id": "07QrV04krkfL",
        "outputId": "2295657a-df2a-4422-a180-011e803a8f1a"
      },
      "source": [
        "A = np.array([[4,1],[5,-2],[2,3]])\n",
        "print(f'A =\\n {A}')\n",
        "print(f'A.T=\\n {A.T}')\n",
        "print(f' A*A.T=\\n {A @ A.T}')\n",
        "print(f' A.T*A=\\n {A.T @ A}')"
      ],
      "execution_count": null,
      "outputs": [
        {
          "output_type": "stream",
          "text": [
            "A =\n",
            " [[ 4  1]\n",
            " [ 5 -2]\n",
            " [ 2  3]]\n",
            "A.T=\n",
            " [[ 4  5  2]\n",
            " [ 1 -2  3]]\n",
            " A*A.T=\n",
            " [[17 18 11]\n",
            " [18 29  4]\n",
            " [11  4 13]]\n",
            " A.T*A=\n",
            " [[45  0]\n",
            " [ 0 14]]\n"
          ],
          "name": "stdout"
        }
      ]
    },
    {
      "cell_type": "markdown",
      "metadata": {
        "id": "6kTKGaOttiI_"
      },
      "source": [
        "##__5__*. Написать на Python функцию для перемножения двух произвольных матриц, не используя NumPy"
      ]
    },
    {
      "cell_type": "code",
      "metadata": {
        "colab": {
          "base_uri": "https://localhost:8080/"
        },
        "id": "7bsmNWvnb7JX",
        "outputId": "f65e6f34-b110-4236-89d1-07879e4dd1cf"
      },
      "source": [
        "A = np.array([[4,1],[5,-2],[2,3]])\n",
        "B = np.array([[3,5,-1],[-4,3,2]])\n",
        "print(A)\n",
        "print(B)\n",
        "print(A @ B)"
      ],
      "execution_count": null,
      "outputs": [
        {
          "output_type": "stream",
          "text": [
            "[[ 4  1]\n",
            " [ 5 -2]\n",
            " [ 2  3]]\n",
            "[[ 3  5 -1]\n",
            " [-4  3  2]]\n",
            "[[ 8 23 -2]\n",
            " [23 19 -9]\n",
            " [-6 19  4]]\n"
          ],
          "name": "stdout"
        }
      ]
    },
    {
      "cell_type": "code",
      "metadata": {
        "id": "Zs7XSTektoaQ"
      },
      "source": [
        "def matrix_cross(A, B):\n",
        "  if len(A[0]) == len(B):    \n",
        "    for i in range(len(A)):\n",
        "      sum = 0      \n",
        "      for j in range(len(B)):         \n",
        "        sum += A[i][j]*B[j][i]\n",
        "      print(sum)     \n",
        "    return ''\n",
        "  else:\n",
        "    return 'Wrong dimensions!'"
      ],
      "execution_count": null,
      "outputs": []
    },
    {
      "cell_type": "code",
      "metadata": {
        "colab": {
          "base_uri": "https://localhost:8080/",
          "height": 86
        },
        "id": "0ZJgtUsGuk_J",
        "outputId": "9b11e8dc-65a4-4f5c-dfd2-2fb706829a4f"
      },
      "source": [
        "matrix_cross(A,B)"
      ],
      "execution_count": null,
      "outputs": [
        {
          "output_type": "stream",
          "text": [
            "8\n",
            "19\n",
            "4\n"
          ],
          "name": "stdout"
        },
        {
          "output_type": "execute_result",
          "data": {
            "application/vnd.google.colaboratory.intrinsic+json": {
              "type": "string"
            },
            "text/plain": [
              "''"
            ]
          },
          "metadata": {
            "tags": []
          },
          "execution_count": 155
        }
      ]
    },
    {
      "cell_type": "markdown",
      "metadata": {
        "id": "xmE-vKqP7i5U"
      },
      "source": [
        "# Методичка 4"
      ]
    },
    {
      "cell_type": "markdown",
      "metadata": {
        "id": "9dfY_Y_57m7m"
      },
      "source": [
        "##__1.__ Вычислить определитель:\n",
        "\n",
        "   a)\n",
        "\n",
        "$$\\begin{vmatrix}\n",
        "sinx & -cosx\\\\ \n",
        "cosx & sinx\n",
        "\\end{vmatrix};$$\n",
        "\n",
        "   б)\n",
        "    \n",
        "$$\\begin{vmatrix}\n",
        "4 & 2 & 3\\\\ \n",
        "0 & 5 & 1\\\\ \n",
        "0 & 0 & 9\n",
        "\\end{vmatrix};$$\n",
        "    \n",
        "   в)\n",
        "\n",
        "$$\\begin{vmatrix}\n",
        "1 & 2 & 3\\\\ \n",
        "4 & 5 & 6\\\\ \n",
        "7 & 8 & 9\n",
        "\\end{vmatrix}.$$"
      ]
    },
    {
      "cell_type": "markdown",
      "metadata": {
        "id": "OuC2jtEQ7vGT"
      },
      "source": [
        "Решение:\n",
        "\n",
        "а) $\\sin{x}\\cdot sin{x} - \\cos{x}\\cdot(-\\cos{x}) = \\sin^2{x} + \\cos^2{x} = 1$<br>\n",
        "б) Матрица треугольная $\\Rightarrow 4\\cdot5\\cdot9=180$<br>\n",
        "в) Для удобства вычислений берем последнюю строку: $7\\cdot(12-15)-8\\cdot(6-12)+9\\cdot(5-8) = 0$"
      ]
    },
    {
      "cell_type": "markdown",
      "metadata": {
        "id": "UG_hW_S49jVx"
      },
      "source": [
        "##__2.__ Определитель матрицы $A$ равен $4$. Найти:\n",
        "\n",
        "   а) $det(A^{2})$;\n",
        "    \n",
        "   б) $det(A^{T})$;\n",
        "    \n",
        "   в) $det(2A)$."
      ]
    },
    {
      "cell_type": "markdown",
      "metadata": {
        "id": "8Plp0nnp9mPY"
      },
      "source": [
        "Решение:<br>\n",
        "а) 16<br>\n",
        "б) 4<br>\n",
        "в) 32 (для матрицы 3*3)"
      ]
    },
    {
      "cell_type": "markdown",
      "metadata": {
        "id": "A19lWsK0_vOj"
      },
      "source": [
        "##__3.__  Доказать, что матрица\n",
        "\n",
        "$$\\begin{pmatrix}\n",
        "-2 & 7 & -3\\\\ \n",
        "4 & -14 & 6\\\\ \n",
        "-3 & 7 & 13\n",
        "\\end{pmatrix}$$\n",
        "   \n",
        "вырожденная."
      ]
    },
    {
      "cell_type": "markdown",
      "metadata": {
        "id": "qEjT-2YX_26n"
      },
      "source": [
        "Решение:\n",
        "Строки 1 и 2 линейно зависимы (2 строка получается домножением первой на -2) $\\Rightarrow$ матрица вырожденная."
      ]
    },
    {
      "cell_type": "markdown",
      "metadata": {
        "id": "eLb5oaiEAmRk"
      },
      "source": [
        "##__4.__ Найти ранг матрицы:\n",
        "\n",
        "   а) $\\begin{pmatrix}\n",
        "1 & 2 & 3\\\\ \n",
        "1 & 1 & 1\\\\ \n",
        "2 & 3 & 4\n",
        "\\end{pmatrix};$\n",
        "\n",
        "   б) $\\begin{pmatrix}\n",
        "0 & 0 & 2 & 1\\\\ \n",
        "0 & 0 & 2 & 2\\\\ \n",
        "0 & 0 & 4 & 3\\\\ \n",
        "2 & 3 & 5 & 6\n",
        "\\end{pmatrix}.$"
      ]
    },
    {
      "cell_type": "markdown",
      "metadata": {
        "id": "KE21Fh4hBo57"
      },
      "source": [
        "Решение:<br>\n",
        "а) 2<br>\n",
        "б) 3"
      ]
    }
  ]
}